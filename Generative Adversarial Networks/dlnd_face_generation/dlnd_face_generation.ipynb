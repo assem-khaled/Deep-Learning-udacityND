{
 "cells": [
  {
   "cell_type": "markdown",
   "metadata": {},
   "source": [
    "# Face Generation\n",
    "\n",
    "In this project, you'll define and train a DCGAN on a dataset of faces. Your goal is to get a generator network to generate *new* images of faces that look as realistic as possible!\n",
    "\n",
    "The project will be broken down into a series of tasks from **loading in data to defining and training adversarial networks**. At the end of the notebook, you'll be able to visualize the results of your trained Generator to see how it performs; your generated samples should look like fairly realistic faces with small amounts of noise.\n",
    "\n",
    "### Get the Data\n",
    "\n",
    "You'll be using the [CelebFaces Attributes Dataset (CelebA)](http://mmlab.ie.cuhk.edu.hk/projects/CelebA.html) to train your adversarial networks.\n",
    "\n",
    "This dataset is more complex than the number datasets (like MNIST or SVHN) you've been working with, and so, you should prepare to define deeper networks and train them for a longer time to get good results. It is suggested that you utilize a GPU for training.\n",
    "\n",
    "### Pre-processed Data\n",
    "\n",
    "Since the project's main focus is on building the GANs, we've done *some* of the pre-processing for you. Each of the CelebA images has been cropped to remove parts of the image that don't include a face, then resized down to 64x64x3 NumPy images. Some sample data is show below.\n",
    "\n",
    "<img src='assets/processed_face_data.png' width=60% />\n",
    "\n",
    "> If you are working locally, you can download this data [by clicking here](https://s3.amazonaws.com/video.udacity-data.com/topher/2018/November/5be7eb6f_processed-celeba-small/processed-celeba-small.zip)\n",
    "\n",
    "This is a zip file that you'll need to extract in the home directory of this notebook for further loading and processing. After extracting the data, you should be left with a directory of data `processed_celeba_small/`"
   ]
  },
  {
   "cell_type": "code",
   "execution_count": 1,
   "metadata": {},
   "outputs": [],
   "source": [
    "# can comment out after executing\n",
    "#!unzip processed_celeba_small.zip"
   ]
  },
  {
   "cell_type": "code",
   "execution_count": 2,
   "metadata": {},
   "outputs": [],
   "source": [
    "data_dir = 'processed_celeba_small/'\n",
    "\n",
    "\"\"\"\n",
    "DON'T MODIFY ANYTHING IN THIS CELL\n",
    "\"\"\"\n",
    "import pickle as pkl\n",
    "import matplotlib.pyplot as plt\n",
    "import numpy as np\n",
    "import problem_unittests as tests\n",
    "#import helper\n",
    "\n",
    "%matplotlib inline"
   ]
  },
  {
   "cell_type": "markdown",
   "metadata": {},
   "source": [
    "## Visualize the CelebA Data\n",
    "\n",
    "The [CelebA](http://mmlab.ie.cuhk.edu.hk/projects/CelebA.html) dataset contains over 200,000 celebrity images with annotations. Since you're going to be generating faces, you won't need the annotations, you'll only need the images. Note that these are color images with [3 color channels (RGB)](https://en.wikipedia.org/wiki/Channel_(digital_image)#RGB_Images) each.\n",
    "\n",
    "### Pre-process and Load the Data\n",
    "\n",
    "Since the project's main focus is on building the GANs, we've done *some* of the pre-processing for you. Each of the CelebA images has been cropped to remove parts of the image that don't include a face, then resized down to 64x64x3 NumPy images. This *pre-processed* dataset is a smaller subset of the very large CelebA data.\n",
    "\n",
    "> There are a few other steps that you'll need to **transform** this data and create a **DataLoader**.\n",
    "\n",
    "#### Exercise: Complete the following `get_dataloader` function, such that it satisfies these requirements:\n",
    "\n",
    "* Your images should be square, Tensor images of size `image_size x image_size` in the x and y dimension.\n",
    "* Your function should return a DataLoader that shuffles and batches these Tensor images.\n",
    "\n",
    "#### ImageFolder\n",
    "\n",
    "To create a dataset given a directory of images, it's recommended that you use PyTorch's [ImageFolder](https://pytorch.org/docs/stable/torchvision/datasets.html#imagefolder) wrapper, with a root directory `processed_celeba_small/` and data transformation passed in."
   ]
  },
  {
   "cell_type": "code",
   "execution_count": 3,
   "metadata": {},
   "outputs": [],
   "source": [
    "# necessary imports\n",
    "import torch\n",
    "from torchvision import datasets\n",
    "from torchvision import transforms"
   ]
  },
  {
   "cell_type": "code",
   "execution_count": 4,
   "metadata": {},
   "outputs": [],
   "source": [
    "def get_dataloader(batch_size, image_size, data_dir='processed_celeba_small/'):\n",
    "    \"\"\"\n",
    "    Batch the neural network data using DataLoader\n",
    "    :param batch_size: The size of each batch; the number of images in a batch\n",
    "    :param img_size: The square size of the image data (x, y)\n",
    "    :param data_dir: Directory where image data is located\n",
    "    :return: DataLoader with batched data\n",
    "    \"\"\"\n",
    "    \n",
    "    # TODO: Implement function and return a dataloader\n",
    "    transform = transforms.Compose([transforms.Resize(image_size),\n",
    "                                    transforms.ToTensor()])\n",
    "    \n",
    "    ImageFolder = datasets.ImageFolder(data_dir, transform=transform)\n",
    "    \n",
    "    dataloader = torch.utils.data.DataLoader(ImageFolder, batch_size = batch_size,\n",
    "                                            shuffle =True)\n",
    "    return dataloader\n"
   ]
  },
  {
   "cell_type": "markdown",
   "metadata": {},
   "source": [
    "## Create a DataLoader\n",
    "\n",
    "#### Exercise: Create a DataLoader `celeba_train_loader` with appropriate hyperparameters.\n",
    "\n",
    "Call the above function and create a dataloader to view images. \n",
    "* You can decide on any reasonable `batch_size` parameter\n",
    "* Your `image_size` **must be** `32`. Resizing the data to a smaller size will make for faster training, while still creating convincing images of faces!"
   ]
  },
  {
   "cell_type": "code",
   "execution_count": 5,
   "metadata": {},
   "outputs": [],
   "source": [
    "# Define function hyperparameters\n",
    "batch_size = 64\n",
    "img_size = 32\n",
    "\n",
    "\"\"\"\n",
    "DON'T MODIFY ANYTHING IN THIS CELL THAT IS BELOW THIS LINE\n",
    "\"\"\"\n",
    "# Call your function and get a dataloader\n",
    "celeba_train_loader = get_dataloader(batch_size, img_size)\n"
   ]
  },
  {
   "cell_type": "code",
   "execution_count": 6,
   "metadata": {},
   "outputs": [
    {
     "data": {
      "text/plain": [
       "Dataset ImageFolder\n",
       "    Number of datapoints: 89931\n",
       "    Root Location: processed_celeba_small/\n",
       "    Transforms (if any): Compose(\n",
       "                             Resize(size=32, interpolation=PIL.Image.BILINEAR)\n",
       "                             ToTensor()\n",
       "                         )\n",
       "    Target Transforms (if any): None"
      ]
     },
     "execution_count": 6,
     "metadata": {},
     "output_type": "execute_result"
    }
   ],
   "source": [
    "celeba_train_loader.dataset"
   ]
  },
  {
   "cell_type": "markdown",
   "metadata": {},
   "source": [
    "Next, you can view some images! You should seen square images of somewhat-centered faces.\n",
    "\n",
    "Note: You'll need to convert the Tensor images into a NumPy type and transpose the dimensions to correctly display an image, suggested `imshow` code is below, but it may not be perfect."
   ]
  },
  {
   "cell_type": "code",
   "execution_count": 7,
   "metadata": {},
   "outputs": [
    {
     "data": {
      "image/png": "[encoded data removed]",
      "text/plain": [
       "<matplotlib.figure.Figure at 0x7feda0a19048>"
      ]
     },
     "metadata": {},
     "output_type": "display_data"
    }
   ],
   "source": [
    "# helper display function\n",
    "def imshow(img):\n",
    "    npimg = img.numpy()\n",
    "    plt.imshow(np.transpose(npimg, (1, 2, 0)))\n",
    "\n",
    "\"\"\"\n",
    "DON'T MODIFY ANYTHING IN THIS CELL THAT IS BELOW THIS LINE\n",
    "\"\"\"\n",
    "# obtain one batch of training images\n",
    "dataiter = iter(celeba_train_loader)\n",
    "images, _ = dataiter.next() # _ for no labels\n",
    "\n",
    "# plot the images in the batch, along with the corresponding labels\n",
    "fig = plt.figure(figsize=(20, 4))\n",
    "plot_size=20\n",
    "for idx in np.arange(plot_size):\n",
    "    ax = fig.add_subplot(2, plot_size/2, idx+1, xticks=[], yticks=[])\n",
    "    imshow(images[idx])"
   ]
  },
  {
   "cell_type": "markdown",
   "metadata": {},
   "source": [
    "#### Exercise: Pre-process your image data and scale it to a pixel range of -1 to 1\n",
    "\n",
    "You need to do a bit of pre-processing; you know that the output of a `tanh` activated generator will contain pixel values in a range from -1 to 1, and so, we need to rescale our training images to a range of -1 to 1. (Right now, they are in a range from 0-1.)"
   ]
  },
  {
   "cell_type": "code",
   "execution_count": 8,
   "metadata": {},
   "outputs": [],
   "source": [
    "# TODO: Complete the scale function\n",
    "def scale(x, feature_range=(-1, 1)):\n",
    "    ''' Scale takes in an image x and returns that image, scaled\n",
    "       with a feature_range of pixel values from -1 to 1. \n",
    "       This function assumes that the input x is already scaled from 0-1.'''\n",
    "    # assume x is scaled to (0, 1)\n",
    "    # scale to feature_range and return scaled x\n",
    "    min, max = feature_range\n",
    "    x = (x * (max-min)) - max\n",
    "    return x\n"
   ]
  },
  {
   "cell_type": "code",
   "execution_count": 9,
   "metadata": {},
   "outputs": [
    {
     "name": "stdout",
     "output_type": "stream",
     "text": [
      "Min:  tensor(-0.9451)\n",
      "Max:  tensor(1.)\n"
     ]
    }
   ],
   "source": [
    "\"\"\"\n",
    "DON'T MODIFY ANYTHING IN THIS CELL THAT IS BELOW THIS LINE\n",
    "\"\"\"\n",
    "# check scaled range\n",
    "# should be close to -1 to 1\n",
    "img = images[0]\n",
    "scaled_img = scale(img)\n",
    "\n",
    "print('Min: ', scaled_img.min())\n",
    "print('Max: ', scaled_img.max())"
   ]
  },
  {
   "cell_type": "markdown",
   "metadata": {},
   "source": [
    "---\n",
    "# Define the Model\n",
    "\n",
    "A GAN is comprised of two adversarial networks, a discriminator and a generator.\n",
    "\n",
    "## Discriminator\n",
    "\n",
    "Your first task will be to define the discriminator. This is a convolutional classifier like you've built before, only without any maxpooling layers. To deal with this complex data, it's suggested you use a deep network with **normalization**. You are also allowed to create any helper functions that may be useful.\n",
    "\n",
    "#### Exercise: Complete the Discriminator class\n",
    "* The inputs to the discriminator are 32x32x3 tensor images\n",
    "* The output should be a single value that will indicate whether a given image is real or fake\n"
   ]
  },
  {
   "cell_type": "code",
   "execution_count": 10,
   "metadata": {},
   "outputs": [],
   "source": [
    "import torch.nn as nn\n",
    "import torch.nn.functional as F"
   ]
  },
  {
   "cell_type": "code",
   "execution_count": 11,
   "metadata": {},
   "outputs": [],
   "source": [
    "# helper conv function\n",
    "def conv(in_channels, out_channels, kernel_size, stride=2, padding=1, batch_norm=True):\n",
    "    \n",
    "    # Creates a convolutional layer, with optional batch normalization.\n",
    "    layers = []\n",
    "    conv_layer = nn.Conv2d(in_channels, out_channels, kernel_size,\n",
    "                           stride, padding, bias=False)\n",
    "    # append conv layer\n",
    "    layers.append(conv_layer)\n",
    "    \n",
    "    if batch_norm:\n",
    "        # append batchnorm layer\n",
    "        bn = nn.BatchNorm2d(out_channels)\n",
    "        layers.append(bn)\n",
    "    \n",
    "    # using Sequential container\n",
    "    return nn.Sequential(*layers)    "
   ]
  },
  {
   "cell_type": "code",
   "execution_count": 12,
   "metadata": {},
   "outputs": [
    {
     "name": "stdout",
     "output_type": "stream",
     "text": [
      "Tests Passed\n"
     ]
    }
   ],
   "source": [
    "class Discriminator(nn.Module):\n",
    "\n",
    "    def __init__(self, conv_dim):\n",
    "        \"\"\"\n",
    "        Initialize the Discriminator Module\n",
    "        :param conv_dim: The depth of the first convolutional layer\n",
    "        \"\"\"\n",
    "        super(Discriminator, self).__init__()\n",
    "\n",
    "        # complete init function\n",
    "        self.conv_dim = conv_dim\n",
    "        # 32x32 input\n",
    "        self.conv1 = conv(3, conv_dim, 4, batch_norm=False)# first layer, no batch_norm\n",
    "        # 16x16 out\n",
    "        self.conv2 = conv(conv_dim, conv_dim*2, 4)\n",
    "        # 8x8 out\n",
    "        self.conv3 = conv(conv_dim*2, conv_dim*4, 4)\n",
    "        # 4x4 out\n",
    "        self.conv4 = conv(conv_dim*4, conv_dim*8, 4)\n",
    "        # 2x2 out\n",
    "        \n",
    "        # fully-connected layer\n",
    "        self.fc = nn.Linear(conv_dim*8 * 2*2, 1)\n",
    "        \n",
    "\n",
    "    def forward(self, x):\n",
    "        \"\"\"\n",
    "        Forward propagation of the neural network\n",
    "        :param x: The input to the neural network     \n",
    "        :return: Discriminator logits; the output of the neural network\n",
    "        \"\"\"\n",
    "        # define feedforward behavior\n",
    "        x = F.leaky_relu(self.conv1(x), 0.2)\n",
    "        x = F.leaky_relu(self.conv2(x), 0.2)\n",
    "        x = F.leaky_relu(self.conv3(x), 0.2)\n",
    "        x = F.leaky_relu(self.conv4(x), 0.2)\n",
    "        #flatten\n",
    "        x = x.view(-1, self.conv_dim*8 * 2*2)\n",
    "        # final output layer\n",
    "        x = self.fc(x)\n",
    "        \n",
    "        return x\n",
    "\n",
    "\n",
    "\"\"\"\n",
    "DON'T MODIFY ANYTHING IN THIS CELL THAT IS BELOW THIS LINE\n",
    "\"\"\"\n",
    "tests.test_discriminator(Discriminator)"
   ]
  },
  {
   "cell_type": "markdown",
   "metadata": {},
   "source": [
    "## Generator\n",
    "\n",
    "The generator should upsample an input and generate a *new* image of the same size as our training data `32x32x3`. This should be mostly transpose convolutional layers with normalization applied to the outputs.\n",
    "\n",
    "#### Exercise: Complete the Generator class\n",
    "* The inputs to the generator are vectors of some length `z_size`\n",
    "* The output should be a image of shape `32x32x3`"
   ]
  },
  {
   "cell_type": "code",
   "execution_count": 13,
   "metadata": {},
   "outputs": [],
   "source": [
    "# helper deconv function\n",
    "def deconv(in_channels, out_channels, kernel_size, stride=2, padding=1, batch_norm=True):\n",
    "    # Creates a transposed-convolutional layer, with optional batch normalization.\n",
    "    layers = []\n",
    "    \n",
    "    t_conv_layer = nn.ConvTranspose2d(in_channels, out_channels, kernel_size, \n",
    "                                      stride, padding, bias=False)\n",
    "    # append transpose convolutional layer\n",
    "    layers.append(t_conv_layer)\n",
    "    \n",
    "    if batch_norm:\n",
    "        # append batchnorm layer\n",
    "        bn = nn.BatchNorm2d(out_channels)\n",
    "        layers.append(bn)\n",
    "    \n",
    "    return nn.Sequential(*layers)"
   ]
  },
  {
   "cell_type": "code",
   "execution_count": 14,
   "metadata": {},
   "outputs": [
    {
     "name": "stdout",
     "output_type": "stream",
     "text": [
      "Tests Passed\n"
     ]
    }
   ],
   "source": [
    "class Generator(nn.Module):\n",
    "    \n",
    "    def __init__(self, z_size, conv_dim):\n",
    "        \"\"\"\n",
    "        Initialize the Generator Module\n",
    "        :param z_size: The length of the input latent vector, z\n",
    "        :param conv_dim: The depth of the inputs to the *last* transpose convolutional layer\n",
    "        \"\"\"\n",
    "        super(Generator, self).__init__()\n",
    "\n",
    "        # complete init function\n",
    "        self.conv_dim = conv_dim\n",
    "        # fully-connected layer\n",
    "        self.fc = nn.Linear(z_size, conv_dim*8 *2*2)\n",
    "        \n",
    "        # transpose conv layers\n",
    "        # 2x2 Input\n",
    "        self.t_conv1 = deconv(conv_dim*8, conv_dim*4, 4)\n",
    "        # 4x4 Output\n",
    "        self.t_conv2 = deconv(conv_dim*4, conv_dim*2, 4)\n",
    "        # 8x8 Output\n",
    "        self.t_conv3 = deconv(conv_dim*2, conv_dim, 4)\n",
    "        # 16x16 Output\n",
    "        self.t_conv4 = deconv(conv_dim, 3, 4, batch_norm=False)# last layer, no batch_norm\n",
    "        # 32x32x3 Output\n",
    "\n",
    "    def forward(self, x):\n",
    "        \"\"\"\n",
    "        Forward propagation of the neural network\n",
    "        :param x: The input to the neural network     \n",
    "        :return: A 32x32x3 Tensor image as output\n",
    "        \"\"\"\n",
    "        # define feedforward behavior\n",
    "        x = self.fc(x)\n",
    "        #flatten\n",
    "        x = x.view(-1, self.conv_dim*8, 2, 2) # (batch_size, depth, 2, 2)\n",
    "        \n",
    "        # hidden transpose conv layers + relu\n",
    "        x = F.relu(self.t_conv1(x))\n",
    "        x = F.relu(self.t_conv2(x))\n",
    "        x = F.relu(self.t_conv3(x))\n",
    "        # last layer + tanh activation\n",
    "        x = F.tanh(self.t_conv4(x))\n",
    "        \n",
    "        return x\n",
    "\n",
    "\"\"\"\n",
    "DON'T MODIFY ANYTHING IN THIS CELL THAT IS BELOW THIS LINE\n",
    "\"\"\"\n",
    "tests.test_generator(Generator)"
   ]
  },
  {
   "cell_type": "markdown",
   "metadata": {},
   "source": [
    "## Initialize the weights of your networks\n",
    "\n",
    "To help your models converge, you should initialize the weights of the convolutional and linear layers in your model. From reading the [original DCGAN paper](https://arxiv.org/pdf/1511.06434.pdf), they say:\n",
    "> All weights were initialized from a zero-centered Normal distribution with standard deviation 0.02.\n",
    "\n",
    "So, your next task will be to define a weight initialization function that does just this!\n",
    "\n",
    "You can refer back to the lesson on weight initialization or even consult existing model code, such as that from [the `networks.py` file in CycleGAN Github repository](https://github.com/junyanz/pytorch-CycleGAN-and-pix2pix/blob/master/models/networks.py) to help you complete this function.\n",
    "\n",
    "#### Exercise: Complete the weight initialization function\n",
    "\n",
    "* This should initialize only **convolutional** and **linear** layers\n",
    "* Initialize the weights to a normal distribution, centered around 0, with a standard deviation of 0.02.\n",
    "* The bias terms, if they exist, may be left alone or set to 0."
   ]
  },
  {
   "cell_type": "code",
   "execution_count": 15,
   "metadata": {},
   "outputs": [],
   "source": [
    "def weights_init_normal(m):\n",
    "    \"\"\"\n",
    "    Applies initial weights to certain layers in a model .\n",
    "    The weights are taken from a normal distribution \n",
    "    with mean = 0, std dev = 0.02.\n",
    "    :param m: A module or layer in a network    \n",
    "    \"\"\"\n",
    "    # classname will be something like:\n",
    "    # `Conv`, `BatchNorm2d`, `Linear`, etc.\n",
    "    classname = m.__class__.__name__\n",
    "    \n",
    "    # TODO: Apply initial weights to convolutional and linear layers\n",
    "    if hasattr(m, 'weight') and (classname.find('Conv') != -1 or classname.find('Linear') != -1):\n",
    "        m.weight.data.normal_(0.0, 0.02)\n",
    "    # The bias terms, if they exist, set to 0\n",
    "    if hasattr(m, 'bias') and m.bias is not None:\n",
    "        m.bias.data.fill_(0)"
   ]
  },
  {
   "cell_type": "markdown",
   "metadata": {
    "collapsed": true
   },
   "source": [
    "## Build complete network\n",
    "\n",
    "Define your models' hyperparameters and instantiate the discriminator and generator from the classes defined above. Make sure you've passed in the correct input arguments."
   ]
  },
  {
   "cell_type": "code",
   "execution_count": 16,
   "metadata": {},
   "outputs": [],
   "source": [
    "\"\"\"\n",
    "DON'T MODIFY ANYTHING IN THIS CELL THAT IS BELOW THIS LINE\n",
    "\"\"\"\n",
    "def build_network(d_conv_dim, g_conv_dim, z_size):\n",
    "    # define discriminator and generator\n",
    "    D = Discriminator(d_conv_dim)\n",
    "    G = Generator(z_size=z_size, conv_dim=g_conv_dim)\n",
    "\n",
    "    # initialize model weights\n",
    "    D.apply(weights_init_normal)\n",
    "    G.apply(weights_init_normal)\n",
    "\n",
    "    print(D)\n",
    "    print()\n",
    "    print(G)\n",
    "    \n",
    "    return D, G\n"
   ]
  },
  {
   "cell_type": "markdown",
   "metadata": {},
   "source": [
    "#### Exercise: Define model hyperparameters"
   ]
  },
  {
   "cell_type": "code",
   "execution_count": 17,
   "metadata": {},
   "outputs": [
    {
     "name": "stdout",
     "output_type": "stream",
     "text": [
      "Discriminator(\n",
      "  (conv1): Sequential(\n",
      "    (0): Conv2d(3, 32, kernel_size=(4, 4), stride=(2, 2), padding=(1, 1), bias=False)\n",
      "  )\n",
      "  (conv2): Sequential(\n",
      "    (0): Conv2d(32, 64, kernel_size=(4, 4), stride=(2, 2), padding=(1, 1), bias=False)\n",
      "    (1): BatchNorm2d(64, eps=1e-05, momentum=0.1, affine=True, track_running_stats=True)\n",
      "  )\n",
      "  (conv3): Sequential(\n",
      "    (0): Conv2d(64, 128, kernel_size=(4, 4), stride=(2, 2), padding=(1, 1), bias=False)\n",
      "    (1): BatchNorm2d(128, eps=1e-05, momentum=0.1, affine=True, track_running_stats=True)\n",
      "  )\n",
      "  (conv4): Sequential(\n",
      "    (0): Conv2d(128, 256, kernel_size=(4, 4), stride=(2, 2), padding=(1, 1), bias=False)\n",
      "    (1): BatchNorm2d(256, eps=1e-05, momentum=0.1, affine=True, track_running_stats=True)\n",
      "  )\n",
      "  (fc): Linear(in_features=1024, out_features=1, bias=True)\n",
      ")\n",
      "\n",
      "Generator(\n",
      "  (fc): Linear(in_features=100, out_features=1024, bias=True)\n",
      "  (t_conv1): Sequential(\n",
      "    (0): ConvTranspose2d(256, 128, kernel_size=(4, 4), stride=(2, 2), padding=(1, 1), bias=False)\n",
      "    (1): BatchNorm2d(128, eps=1e-05, momentum=0.1, affine=True, track_running_stats=True)\n",
      "  )\n",
      "  (t_conv2): Sequential(\n",
      "    (0): ConvTranspose2d(128, 64, kernel_size=(4, 4), stride=(2, 2), padding=(1, 1), bias=False)\n",
      "    (1): BatchNorm2d(64, eps=1e-05, momentum=0.1, affine=True, track_running_stats=True)\n",
      "  )\n",
      "  (t_conv3): Sequential(\n",
      "    (0): ConvTranspose2d(64, 32, kernel_size=(4, 4), stride=(2, 2), padding=(1, 1), bias=False)\n",
      "    (1): BatchNorm2d(32, eps=1e-05, momentum=0.1, affine=True, track_running_stats=True)\n",
      "  )\n",
      "  (t_conv4): Sequential(\n",
      "    (0): ConvTranspose2d(32, 3, kernel_size=(4, 4), stride=(2, 2), padding=(1, 1), bias=False)\n",
      "  )\n",
      ")\n"
     ]
    }
   ],
   "source": [
    "# Define model hyperparams\n",
    "d_conv_dim = 32\n",
    "g_conv_dim = 32\n",
    "z_size = 100\n",
    "\n",
    "\"\"\"\n",
    "DON'T MODIFY ANYTHING IN THIS CELL THAT IS BELOW THIS LINE\n",
    "\"\"\"\n",
    "D, G = build_network(d_conv_dim, g_conv_dim, z_size)"
   ]
  },
  {
   "cell_type": "markdown",
   "metadata": {},
   "source": [
    "### Training on GPU\n",
    "\n",
    "Check if you can train on GPU. Here, we'll set this as a boolean variable `train_on_gpu`. Later, you'll be responsible for making sure that \n",
    ">* Models,\n",
    "* Model inputs, and\n",
    "* Loss function arguments\n",
    "\n",
    "Are moved to GPU, where appropriate."
   ]
  },
  {
   "cell_type": "code",
   "execution_count": 18,
   "metadata": {},
   "outputs": [
    {
     "name": "stdout",
     "output_type": "stream",
     "text": [
      "Training on GPU!\n"
     ]
    }
   ],
   "source": [
    "\"\"\"\n",
    "DON'T MODIFY ANYTHING IN THIS CELL\n",
    "\"\"\"\n",
    "import torch\n",
    "\n",
    "# Check for a GPU\n",
    "train_on_gpu = torch.cuda.is_available()\n",
    "if not train_on_gpu:\n",
    "    print('No GPU found. Please use a GPU to train your neural network.')\n",
    "else:\n",
    "    print('Training on GPU!')"
   ]
  },
  {
   "cell_type": "markdown",
   "metadata": {},
   "source": [
    "---\n",
    "## Discriminator and Generator Losses\n",
    "\n",
    "Now we need to calculate the losses for both types of adversarial networks.\n",
    "\n",
    "### Discriminator Losses\n",
    "\n",
    "> * For the discriminator, the total loss is the sum of the losses for real and fake images, `d_loss = d_real_loss + d_fake_loss`. \n",
    "* Remember that we want the discriminator to output 1 for real images and 0 for fake images, so we need to set up the losses to reflect that.\n",
    "\n",
    "\n",
    "### Generator Loss\n",
    "\n",
    "The generator loss will look similar only with flipped labels. The generator's goal is to get the discriminator to *think* its generated images are *real*.\n",
    "\n",
    "#### Exercise: Complete real and fake loss functions\n",
    "\n",
    "**You may choose to use either cross entropy or a least squares error loss to complete the following `real_loss` and `fake_loss` functions.**"
   ]
  },
  {
   "cell_type": "code",
   "execution_count": 19,
   "metadata": {},
   "outputs": [],
   "source": [
    "def real_loss(D_out, smooth=False):\n",
    "    '''Calculates how close discriminator outputs are to being real.\n",
    "       param, D_out: discriminator logits\n",
    "       return: real loss'''\n",
    "    batch_size = D_out.size(0)\n",
    "    # label smoothing\n",
    "    if smooth:\n",
    "        # smooth, real labels = 0.9\n",
    "        labels = torch.ones(batch_size)*0.9 \n",
    "    else:\n",
    "        labels = torch.ones(batch_size) # real labels = 1\n",
    "    # move labels to GPU if available     \n",
    "    if train_on_gpu:\n",
    "        labels = labels.cuda()\n",
    "    # binary cross entropy with logits loss\n",
    "    criterion = nn.BCEWithLogitsLoss()\n",
    "    # calculate loss\n",
    "    loss = criterion(D_out.squeeze(), labels)\n",
    "    return loss\n",
    "\n",
    "def fake_loss(D_out):\n",
    "    '''Calculates how close discriminator outputs are to being fake.\n",
    "       param, D_out: discriminator logits\n",
    "       return: fake loss'''\n",
    "    batch_size = D_out.size(0)\n",
    "    \n",
    "    labels = torch.zeros(batch_size) # fake labels = 0\n",
    "    # move labels to GPU if available     \n",
    "    if train_on_gpu:\n",
    "        labels = labels.cuda()\n",
    "    # binary cross entropy with logits loss\n",
    "    criterion = nn.BCEWithLogitsLoss()\n",
    "    # calculate loss\n",
    "    loss = criterion(D_out.squeeze(), labels)\n",
    "    return loss"
   ]
  },
  {
   "cell_type": "markdown",
   "metadata": {},
   "source": [
    "## Optimizers\n",
    "\n",
    "#### Exercise: Define optimizers for your Discriminator (D) and Generator (G)\n",
    "\n",
    "Define optimizers for your models with appropriate hyperparameters."
   ]
  },
  {
   "cell_type": "code",
   "execution_count": 20,
   "metadata": {},
   "outputs": [],
   "source": [
    "import torch.optim as optim\n",
    "\n",
    "# params\n",
    "lr = 0.0002\n",
    "beta1= 0.5\n",
    "beta2= 0.999 # default value\n",
    "\n",
    "# Create optimizers for the discriminator D and generator G\n",
    "d_optimizer = optim.Adam(D.parameters(), lr, [beta1, beta2])\n",
    "g_optimizer = optim.Adam(G.parameters(), lr, [beta1, beta2])"
   ]
  },
  {
   "cell_type": "markdown",
   "metadata": {},
   "source": [
    "---\n",
    "## Training\n",
    "\n",
    "Training will involve alternating between training the discriminator and the generator. You'll use your functions `real_loss` and `fake_loss` to help you calculate the discriminator losses.\n",
    "\n",
    "* You should train the discriminator by alternating on real and fake images\n",
    "* Then the generator, which tries to trick the discriminator and should have an opposing loss function\n",
    "\n",
    "\n",
    "#### Saving Samples\n",
    "\n",
    "You've been given some code to print out some loss statistics and save some generated \"fake\" samples."
   ]
  },
  {
   "cell_type": "markdown",
   "metadata": {},
   "source": [
    "#### Exercise: Complete the training function\n",
    "\n",
    "Keep in mind that, if you've moved your models to GPU, you'll also have to move any model inputs to GPU."
   ]
  },
  {
   "cell_type": "code",
   "execution_count": 21,
   "metadata": {},
   "outputs": [],
   "source": [
    "def train(D, G, n_epochs, print_every=250):\n",
    "    '''Trains adversarial networks for some number of epochs\n",
    "       param, D: the discriminator network\n",
    "       param, G: the generator network\n",
    "       param, n_epochs: number of epochs to train for\n",
    "       param, print_every: when to print and record the models' losses\n",
    "       return: D and G losses'''\n",
    "    \n",
    "    # move models to GPU\n",
    "    if train_on_gpu:\n",
    "        D.cuda()\n",
    "        G.cuda()\n",
    "\n",
    "    # keep track of loss and generated, \"fake\" samples\n",
    "    samples = []\n",
    "    losses = []\n",
    "\n",
    "    # Get some fixed data for sampling. These are images that are held\n",
    "    # constant throughout training, and allow us to inspect the model's performance\n",
    "    sample_size=16\n",
    "    fixed_z = np.random.uniform(-1, 1, size=(sample_size, z_size))\n",
    "    fixed_z = torch.from_numpy(fixed_z).float()\n",
    "    # move z to GPU if available\n",
    "    if train_on_gpu:\n",
    "        fixed_z = fixed_z.cuda()\n",
    "\n",
    "    # epoch training loop\n",
    "    for epoch in range(n_epochs):\n",
    "\n",
    "        # batch training loop\n",
    "        for batch_i, (real_images, _) in enumerate(celeba_train_loader):\n",
    "\n",
    "            batch_size = real_images.size(0)\n",
    "            real_images = scale(real_images)\n",
    "            \n",
    "            # ===============================================\n",
    "            #         YOUR CODE HERE: TRAIN THE NETWORKS\n",
    "            # ===============================================\n",
    "            \n",
    "            # 1. Train the discriminator on real and fake images\n",
    "            d_optimizer.zero_grad()\n",
    "            \n",
    "            # 1. Train with real images\n",
    "            # move x to GPU, if available\n",
    "            if train_on_gpu:\n",
    "                real_images = real_images.cuda()   \n",
    "                \n",
    "            D_real = D(real_images)\n",
    "            d_r_loss = real_loss(D_real, smooth=True)\n",
    "                \n",
    "            # 2. Train with fake images\n",
    "            \n",
    "            # Generate fake images\n",
    "            z = np.random.uniform(-1, 1, size=(batch_size, z_size))\n",
    "            z = torch.from_numpy(z).float()\n",
    "            # move x to GPU, if available\n",
    "            if train_on_gpu:\n",
    "                z = z.cuda()            \n",
    "            fake_images = G(z)\n",
    "            \n",
    "            # Compute the discriminator losses on fake images \n",
    "            D_fake = D(fake_images)\n",
    "            d_f_loss = fake_loss(D_fake)\n",
    "            \n",
    "            # add up loss and perform backprop\n",
    "            d_loss = d_r_loss + d_f_loss\n",
    "            d_loss.backward()\n",
    "            d_optimizer.step()\n",
    "            \n",
    "            #================================================\n",
    "            \n",
    "            # 2. Train the generator with an adversarial loss\n",
    "            g_optimizer.zero_grad()\n",
    "            \n",
    "            # Generate fake images\n",
    "            z = np.random.uniform(-1, 1, size=(batch_size, z_size))\n",
    "            z = torch.from_numpy(z).float()\n",
    "            # move x to GPU, if available\n",
    "            if train_on_gpu:\n",
    "                z = z.cuda()  \n",
    "            fake_images = G(z)\n",
    "            \n",
    "            # Compute the discriminator losses on fake images \n",
    "            # using flipped labels!            \n",
    "            D_fake = D(fake_images)\n",
    "            g_r_loss = real_loss(D_fake) # use real loss to flip labels with no smoothing\n",
    "            \n",
    "            # perform backprop\n",
    "            g_loss = g_r_loss\n",
    "            g_loss.backward()\n",
    "            g_optimizer.step()\n",
    "            \n",
    "            # ===============================================\n",
    "            #              END OF YOUR CODE\n",
    "            # ===============================================\n",
    "\n",
    "            # Print some loss stats\n",
    "            if batch_i % print_every == 0:\n",
    "                # append discriminator loss and generator loss\n",
    "                losses.append((d_loss.item(), g_loss.item()))\n",
    "                # print discriminator and generator loss\n",
    "                print('Epoch [{:5d}/{:5d}] | d_loss: {:6.4f} | g_loss: {:6.4f}'.format(\n",
    "                        epoch+1, n_epochs, d_loss.item(), g_loss.item()))\n",
    "\n",
    "\n",
    "        ## AFTER EACH EPOCH##    \n",
    "        # this code assumes your generator is named G, feel free to change the name\n",
    "        # generate and save sample, fake images\n",
    "        G.eval() # for generating samples\n",
    "        samples_z = G(fixed_z)\n",
    "        samples.append(samples_z)\n",
    "        G.train() # back to training mode\n",
    "\n",
    "    # Save training generator samples\n",
    "    with open('train_samples.pkl', 'wb') as f:\n",
    "        pkl.dump(samples, f)\n",
    "    \n",
    "    # finally return losses\n",
    "    return losses"
   ]
  },
  {
   "cell_type": "markdown",
   "metadata": {},
   "source": [
    "Set your number of training epochs and train your GAN!"
   ]
  },
  {
   "cell_type": "code",
   "execution_count": 22,
   "metadata": {
    "scrolled": true
   },
   "outputs": [
    {
     "name": "stdout",
     "output_type": "stream",
     "text": [
      "Epoch [    1/   50] | d_loss: 1.4841 | g_loss: 0.8327\n",
      "Epoch [    1/   50] | d_loss: 0.5531 | g_loss: 2.3917\n",
      "Epoch [    1/   50] | d_loss: 0.5980 | g_loss: 1.8898\n",
      "Epoch [    1/   50] | d_loss: 0.7318 | g_loss: 2.0987\n",
      "Epoch [    1/   50] | d_loss: 0.9045 | g_loss: 1.9344\n",
      "Epoch [    1/   50] | d_loss: 0.8355 | g_loss: 1.6683\n",
      "Epoch [    2/   50] | d_loss: 1.0917 | g_loss: 1.8502\n",
      "Epoch [    2/   50] | d_loss: 0.8576 | g_loss: 2.7786\n",
      "Epoch [    2/   50] | d_loss: 0.9854 | g_loss: 2.2633\n",
      "Epoch [    2/   50] | d_loss: 0.9292 | g_loss: 3.1556\n",
      "Epoch [    2/   50] | d_loss: 1.1086 | g_loss: 2.5322\n",
      "Epoch [    2/   50] | d_loss: 0.8055 | g_loss: 1.5176\n",
      "Epoch [    3/   50] | d_loss: 0.9792 | g_loss: 3.0923\n",
      "Epoch [    3/   50] | d_loss: 1.1072 | g_loss: 2.4776\n",
      "Epoch [    3/   50] | d_loss: 0.8711 | g_loss: 2.5834\n",
      "Epoch [    3/   50] | d_loss: 0.9781 | g_loss: 1.6144\n",
      "Epoch [    3/   50] | d_loss: 0.8576 | g_loss: 1.7756\n",
      "Epoch [    3/   50] | d_loss: 1.1541 | g_loss: 2.4746\n",
      "Epoch [    4/   50] | d_loss: 1.1852 | g_loss: 2.5947\n",
      "Epoch [    4/   50] | d_loss: 0.7304 | g_loss: 2.0184\n",
      "Epoch [    4/   50] | d_loss: 0.8667 | g_loss: 1.2832\n",
      "Epoch [    4/   50] | d_loss: 0.7720 | g_loss: 1.4700\n",
      "Epoch [    4/   50] | d_loss: 0.8384 | g_loss: 2.2549\n",
      "Epoch [    4/   50] | d_loss: 0.9865 | g_loss: 3.3815\n",
      "Epoch [    5/   50] | d_loss: 1.0611 | g_loss: 3.0870\n",
      "Epoch [    5/   50] | d_loss: 0.9697 | g_loss: 1.4397\n",
      "Epoch [    5/   50] | d_loss: 0.7637 | g_loss: 1.6052\n",
      "Epoch [    5/   50] | d_loss: 0.9652 | g_loss: 2.8583\n",
      "Epoch [    5/   50] | d_loss: 1.1434 | g_loss: 2.1524\n",
      "Epoch [    5/   50] | d_loss: 1.0821 | g_loss: 1.7682\n",
      "Epoch [    6/   50] | d_loss: 2.0058 | g_loss: 4.5280\n",
      "Epoch [    6/   50] | d_loss: 0.7394 | g_loss: 2.1146\n",
      "Epoch [    6/   50] | d_loss: 0.8371 | g_loss: 1.3118\n",
      "Epoch [    6/   50] | d_loss: 0.7447 | g_loss: 1.4984\n",
      "Epoch [    6/   50] | d_loss: 0.8554 | g_loss: 1.4023\n",
      "Epoch [    6/   50] | d_loss: 0.7947 | g_loss: 1.5381\n",
      "Epoch [    7/   50] | d_loss: 1.0143 | g_loss: 3.3793\n",
      "Epoch [    7/   50] | d_loss: 0.8992 | g_loss: 3.0042\n",
      "Epoch [    7/   50] | d_loss: 0.7223 | g_loss: 2.3691\n",
      "Epoch [    7/   50] | d_loss: 0.7202 | g_loss: 2.0458\n",
      "Epoch [    7/   50] | d_loss: 0.8494 | g_loss: 1.9569\n",
      "Epoch [    7/   50] | d_loss: 0.7282 | g_loss: 2.2378\n",
      "Epoch [    8/   50] | d_loss: 0.8237 | g_loss: 1.3288\n",
      "Epoch [    8/   50] | d_loss: 0.6850 | g_loss: 2.7236\n",
      "Epoch [    8/   50] | d_loss: 0.6578 | g_loss: 2.5867\n",
      "Epoch [    8/   50] | d_loss: 0.8106 | g_loss: 1.0216\n",
      "Epoch [    8/   50] | d_loss: 0.6539 | g_loss: 2.4617\n",
      "Epoch [    8/   50] | d_loss: 0.9302 | g_loss: 2.0693\n",
      "Epoch [    9/   50] | d_loss: 0.8321 | g_loss: 2.0029\n",
      "Epoch [    9/   50] | d_loss: 0.6752 | g_loss: 2.5334\n",
      "Epoch [    9/   50] | d_loss: 1.5155 | g_loss: 1.5087\n",
      "Epoch [    9/   50] | d_loss: 0.8205 | g_loss: 2.0738\n",
      "Epoch [    9/   50] | d_loss: 1.2765 | g_loss: 3.0168\n",
      "Epoch [    9/   50] | d_loss: 0.6651 | g_loss: 3.3492\n",
      "Epoch [   10/   50] | d_loss: 1.1806 | g_loss: 3.6040\n",
      "Epoch [   10/   50] | d_loss: 0.6559 | g_loss: 1.6855\n",
      "Epoch [   10/   50] | d_loss: 0.7184 | g_loss: 2.0474\n",
      "Epoch [   10/   50] | d_loss: 0.7219 | g_loss: 1.5336\n",
      "Epoch [   10/   50] | d_loss: 0.6319 | g_loss: 3.2871\n",
      "Epoch [   10/   50] | d_loss: 0.7347 | g_loss: 1.1668\n",
      "Epoch [   11/   50] | d_loss: 2.1884 | g_loss: 5.5417\n",
      "Epoch [   11/   50] | d_loss: 0.7318 | g_loss: 2.4792\n",
      "Epoch [   11/   50] | d_loss: 0.6010 | g_loss: 3.3907\n",
      "Epoch [   11/   50] | d_loss: 0.9516 | g_loss: 2.9792\n",
      "Epoch [   11/   50] | d_loss: 0.7824 | g_loss: 2.5131\n",
      "Epoch [   11/   50] | d_loss: 0.6074 | g_loss: 2.3457\n",
      "Epoch [   12/   50] | d_loss: 0.9762 | g_loss: 3.0856\n",
      "Epoch [   12/   50] | d_loss: 0.8431 | g_loss: 2.3010\n",
      "Epoch [   12/   50] | d_loss: 0.5868 | g_loss: 2.6262\n",
      "Epoch [   12/   50] | d_loss: 0.6480 | g_loss: 2.5059\n",
      "Epoch [   12/   50] | d_loss: 0.5461 | g_loss: 2.1819\n",
      "Epoch [   12/   50] | d_loss: 0.5539 | g_loss: 2.7729\n",
      "Epoch [   13/   50] | d_loss: 0.7843 | g_loss: 2.0634\n",
      "Epoch [   13/   50] | d_loss: 0.6123 | g_loss: 2.4291\n",
      "Epoch [   13/   50] | d_loss: 0.9557 | g_loss: 2.2203\n",
      "Epoch [   13/   50] | d_loss: 0.9180 | g_loss: 1.4584\n",
      "Epoch [   13/   50] | d_loss: 0.5591 | g_loss: 2.3562\n",
      "Epoch [   13/   50] | d_loss: 0.5971 | g_loss: 2.2223\n",
      "Epoch [   14/   50] | d_loss: 0.6996 | g_loss: 2.3495\n",
      "Epoch [   14/   50] | d_loss: 0.9620 | g_loss: 2.0810\n",
      "Epoch [   14/   50] | d_loss: 0.5707 | g_loss: 3.0081\n",
      "Epoch [   14/   50] | d_loss: 0.5112 | g_loss: 2.6817\n",
      "Epoch [   14/   50] | d_loss: 0.6445 | g_loss: 3.1542\n",
      "Epoch [   14/   50] | d_loss: 0.5789 | g_loss: 2.5886\n",
      "Epoch [   15/   50] | d_loss: 0.5447 | g_loss: 2.5816\n",
      "Epoch [   15/   50] | d_loss: 0.5959 | g_loss: 2.7332\n",
      "Epoch [   15/   50] | d_loss: 0.6242 | g_loss: 1.7561\n",
      "Epoch [   15/   50] | d_loss: 0.6985 | g_loss: 3.1175\n",
      "Epoch [   15/   50] | d_loss: 0.5966 | g_loss: 3.4754\n",
      "Epoch [   15/   50] | d_loss: 0.5106 | g_loss: 2.5647\n",
      "Epoch [   16/   50] | d_loss: 0.9555 | g_loss: 3.7449\n",
      "Epoch [   16/   50] | d_loss: 0.6228 | g_loss: 2.3321\n",
      "Epoch [   16/   50] | d_loss: 0.5120 | g_loss: 2.5827\n",
      "Epoch [   16/   50] | d_loss: 0.5862 | g_loss: 2.6499\n",
      "Epoch [   16/   50] | d_loss: 1.0028 | g_loss: 4.0361\n",
      "Epoch [   16/   50] | d_loss: 0.4573 | g_loss: 3.1297\n",
      "Epoch [   17/   50] | d_loss: 0.5286 | g_loss: 4.0983\n",
      "Epoch [   17/   50] | d_loss: 0.4595 | g_loss: 3.8983\n",
      "Epoch [   17/   50] | d_loss: 0.5649 | g_loss: 5.5330\n",
      "Epoch [   17/   50] | d_loss: 0.4245 | g_loss: 3.3246\n",
      "Epoch [   17/   50] | d_loss: 0.7239 | g_loss: 3.6080\n",
      "Epoch [   17/   50] | d_loss: 0.7626 | g_loss: 1.7189\n",
      "Epoch [   18/   50] | d_loss: 3.4299 | g_loss: 4.3119\n",
      "Epoch [   18/   50] | d_loss: 0.6415 | g_loss: 2.0036\n",
      "Epoch [   18/   50] | d_loss: 0.4662 | g_loss: 2.9174\n",
      "Epoch [   18/   50] | d_loss: 0.5770 | g_loss: 3.9220\n",
      "Epoch [   18/   50] | d_loss: 0.8176 | g_loss: 1.6729\n",
      "Epoch [   18/   50] | d_loss: 0.4947 | g_loss: 4.0981\n",
      "Epoch [   19/   50] | d_loss: 0.6123 | g_loss: 2.4809\n",
      "Epoch [   19/   50] | d_loss: 0.4635 | g_loss: 3.4716\n",
      "Epoch [   19/   50] | d_loss: 0.4754 | g_loss: 4.4251\n",
      "Epoch [   19/   50] | d_loss: 0.6798 | g_loss: 2.3415\n",
      "Epoch [   19/   50] | d_loss: 0.4770 | g_loss: 3.1807\n",
      "Epoch [   19/   50] | d_loss: 0.7119 | g_loss: 2.4728\n",
      "Epoch [   20/   50] | d_loss: 0.7898 | g_loss: 1.5766\n",
      "Epoch [   20/   50] | d_loss: 0.5824 | g_loss: 2.8493\n",
      "Epoch [   20/   50] | d_loss: 0.5617 | g_loss: 1.9918\n",
      "Epoch [   20/   50] | d_loss: 0.7812 | g_loss: 2.3649\n",
      "Epoch [   20/   50] | d_loss: 0.5683 | g_loss: 2.9849\n",
      "Epoch [   20/   50] | d_loss: 0.5183 | g_loss: 3.1475\n",
      "Epoch [   21/   50] | d_loss: 0.5225 | g_loss: 3.6233\n",
      "Epoch [   21/   50] | d_loss: 0.5645 | g_loss: 2.5917\n",
      "Epoch [   21/   50] | d_loss: 0.6538 | g_loss: 3.1052\n",
      "Epoch [   21/   50] | d_loss: 0.7373 | g_loss: 4.4707\n",
      "Epoch [   21/   50] | d_loss: 0.4306 | g_loss: 2.8090\n",
      "Epoch [   21/   50] | d_loss: 0.6126 | g_loss: 3.7498\n",
      "Epoch [   22/   50] | d_loss: 0.8075 | g_loss: 3.0731\n",
      "Epoch [   22/   50] | d_loss: 0.4346 | g_loss: 3.6241\n",
      "Epoch [   22/   50] | d_loss: 0.6976 | g_loss: 2.6358\n",
      "Epoch [   22/   50] | d_loss: 0.5124 | g_loss: 2.5974\n",
      "Epoch [   22/   50] | d_loss: 0.4300 | g_loss: 3.9360\n",
      "Epoch [   22/   50] | d_loss: 0.5883 | g_loss: 3.2912\n",
      "Epoch [   23/   50] | d_loss: 0.8171 | g_loss: 2.8848\n",
      "Epoch [   23/   50] | d_loss: 0.4284 | g_loss: 3.5245\n",
      "Epoch [   23/   50] | d_loss: 0.4170 | g_loss: 3.1960\n",
      "Epoch [   23/   50] | d_loss: 0.6302 | g_loss: 4.4379\n",
      "Epoch [   23/   50] | d_loss: 0.7474 | g_loss: 1.9540\n",
      "Epoch [   23/   50] | d_loss: 0.5579 | g_loss: 4.6894\n",
      "Epoch [   24/   50] | d_loss: 0.4631 | g_loss: 3.1325\n",
      "Epoch [   24/   50] | d_loss: 0.4094 | g_loss: 3.2553\n",
      "Epoch [   24/   50] | d_loss: 0.4350 | g_loss: 4.0820\n",
      "Epoch [   24/   50] | d_loss: 0.4615 | g_loss: 3.4764\n",
      "Epoch [   24/   50] | d_loss: 0.5223 | g_loss: 2.9594\n",
      "Epoch [   24/   50] | d_loss: 0.4673 | g_loss: 3.3263\n",
      "Epoch [   25/   50] | d_loss: 0.4671 | g_loss: 4.3742\n",
      "Epoch [   25/   50] | d_loss: 0.6700 | g_loss: 2.0475\n",
      "Epoch [   25/   50] | d_loss: 0.4167 | g_loss: 3.5273\n",
      "Epoch [   25/   50] | d_loss: 0.4885 | g_loss: 2.9316\n",
      "Epoch [   25/   50] | d_loss: 0.5868 | g_loss: 3.4545\n",
      "Epoch [   25/   50] | d_loss: 0.4481 | g_loss: 2.9075\n",
      "Epoch [   26/   50] | d_loss: 0.6600 | g_loss: 2.6972\n",
      "Epoch [   26/   50] | d_loss: 0.5317 | g_loss: 2.8310\n"
     ]
    },
    {
     "name": "stdout",
     "output_type": "stream",
     "text": [
      "Epoch [   26/   50] | d_loss: 0.6257 | g_loss: 4.5968\n",
      "Epoch [   26/   50] | d_loss: 0.5116 | g_loss: 3.1387\n",
      "Epoch [   26/   50] | d_loss: 0.4254 | g_loss: 3.5532\n",
      "Epoch [   26/   50] | d_loss: 0.5161 | g_loss: 2.5127\n",
      "Epoch [   27/   50] | d_loss: 0.8794 | g_loss: 1.9628\n",
      "Epoch [   27/   50] | d_loss: 0.4772 | g_loss: 4.1152\n",
      "Epoch [   27/   50] | d_loss: 0.4320 | g_loss: 3.7967\n",
      "Epoch [   27/   50] | d_loss: 0.4393 | g_loss: 3.5767\n",
      "Epoch [   27/   50] | d_loss: 0.4864 | g_loss: 3.3017\n",
      "Epoch [   27/   50] | d_loss: 0.5627 | g_loss: 3.0503\n",
      "Epoch [   28/   50] | d_loss: 0.5683 | g_loss: 2.6362\n",
      "Epoch [   28/   50] | d_loss: 0.5212 | g_loss: 1.9078\n",
      "Epoch [   28/   50] | d_loss: 0.5957 | g_loss: 2.3941\n",
      "Epoch [   28/   50] | d_loss: 0.4681 | g_loss: 3.5239\n",
      "Epoch [   28/   50] | d_loss: 0.7201 | g_loss: 2.2362\n",
      "Epoch [   28/   50] | d_loss: 0.8698 | g_loss: 4.5078\n",
      "Epoch [   29/   50] | d_loss: 2.3333 | g_loss: 4.0095\n",
      "Epoch [   29/   50] | d_loss: 0.4640 | g_loss: 3.0773\n",
      "Epoch [   29/   50] | d_loss: 0.4269 | g_loss: 5.1550\n",
      "Epoch [   29/   50] | d_loss: 0.3820 | g_loss: 5.5612\n",
      "Epoch [   29/   50] | d_loss: 0.4709 | g_loss: 3.1151\n",
      "Epoch [   29/   50] | d_loss: 0.4478 | g_loss: 3.6106\n",
      "Epoch [   30/   50] | d_loss: 0.6223 | g_loss: 1.4155\n",
      "Epoch [   30/   50] | d_loss: 0.4702 | g_loss: 3.2209\n",
      "Epoch [   30/   50] | d_loss: 0.3982 | g_loss: 4.1245\n",
      "Epoch [   30/   50] | d_loss: 0.4297 | g_loss: 5.0118\n",
      "Epoch [   30/   50] | d_loss: 0.5131 | g_loss: 4.0664\n",
      "Epoch [   30/   50] | d_loss: 0.4145 | g_loss: 3.9987\n",
      "Epoch [   31/   50] | d_loss: 1.1405 | g_loss: 4.2376\n",
      "Epoch [   31/   50] | d_loss: 0.4863 | g_loss: 2.5742\n",
      "Epoch [   31/   50] | d_loss: 0.6005 | g_loss: 2.9215\n",
      "Epoch [   31/   50] | d_loss: 0.5282 | g_loss: 3.4735\n",
      "Epoch [   31/   50] | d_loss: 0.6312 | g_loss: 2.8243\n",
      "Epoch [   31/   50] | d_loss: 0.5670 | g_loss: 3.4751\n",
      "Epoch [   32/   50] | d_loss: 0.4326 | g_loss: 3.8011\n",
      "Epoch [   32/   50] | d_loss: 0.5796 | g_loss: 3.1834\n",
      "Epoch [   32/   50] | d_loss: 0.5987 | g_loss: 3.0426\n",
      "Epoch [   32/   50] | d_loss: 0.4759 | g_loss: 4.1492\n",
      "Epoch [   32/   50] | d_loss: 0.4941 | g_loss: 3.0003\n",
      "Epoch [   32/   50] | d_loss: 0.5567 | g_loss: 2.5281\n",
      "Epoch [   33/   50] | d_loss: 1.1958 | g_loss: 3.2935\n",
      "Epoch [   33/   50] | d_loss: 0.4705 | g_loss: 3.9507\n",
      "Epoch [   33/   50] | d_loss: 0.7164 | g_loss: 1.9740\n",
      "Epoch [   33/   50] | d_loss: 0.5033 | g_loss: 3.4741\n",
      "Epoch [   33/   50] | d_loss: 0.6179 | g_loss: 3.2935\n",
      "Epoch [   33/   50] | d_loss: 0.4853 | g_loss: 3.7794\n",
      "Epoch [   34/   50] | d_loss: 0.4879 | g_loss: 2.8285\n",
      "Epoch [   34/   50] | d_loss: 0.4322 | g_loss: 3.4798\n",
      "Epoch [   34/   50] | d_loss: 0.5818 | g_loss: 3.4351\n",
      "Epoch [   34/   50] | d_loss: 0.8022 | g_loss: 1.7652\n",
      "Epoch [   34/   50] | d_loss: 0.5529 | g_loss: 3.4056\n",
      "Epoch [   34/   50] | d_loss: 0.4460 | g_loss: 3.2844\n",
      "Epoch [   35/   50] | d_loss: 0.6142 | g_loss: 3.4209\n",
      "Epoch [   35/   50] | d_loss: 0.7636 | g_loss: 2.2020\n",
      "Epoch [   35/   50] | d_loss: 0.4895 | g_loss: 2.7988\n",
      "Epoch [   35/   50] | d_loss: 0.5010 | g_loss: 3.9248\n",
      "Epoch [   35/   50] | d_loss: 0.5666 | g_loss: 3.1309\n",
      "Epoch [   35/   50] | d_loss: 0.7476 | g_loss: 4.2592\n",
      "Epoch [   36/   50] | d_loss: 1.1270 | g_loss: 5.7963\n",
      "Epoch [   36/   50] | d_loss: 0.4367 | g_loss: 4.8322\n",
      "Epoch [   36/   50] | d_loss: 0.5859 | g_loss: 4.8674\n",
      "Epoch [   36/   50] | d_loss: 0.5812 | g_loss: 3.7827\n",
      "Epoch [   36/   50] | d_loss: 0.4656 | g_loss: 4.3652\n",
      "Epoch [   36/   50] | d_loss: 0.4323 | g_loss: 5.4926\n",
      "Epoch [   37/   50] | d_loss: 0.6984 | g_loss: 2.8265\n",
      "Epoch [   37/   50] | d_loss: 0.4944 | g_loss: 2.8935\n",
      "Epoch [   37/   50] | d_loss: 0.4632 | g_loss: 4.2348\n",
      "Epoch [   37/   50] | d_loss: 0.6070 | g_loss: 1.5158\n",
      "Epoch [   37/   50] | d_loss: 0.4252 | g_loss: 3.9895\n",
      "Epoch [   37/   50] | d_loss: 0.6031 | g_loss: 2.7301\n",
      "Epoch [   38/   50] | d_loss: 0.6138 | g_loss: 3.9714\n",
      "Epoch [   38/   50] | d_loss: 0.3969 | g_loss: 4.7737\n",
      "Epoch [   38/   50] | d_loss: 0.4471 | g_loss: 2.8120\n",
      "Epoch [   38/   50] | d_loss: 0.4355 | g_loss: 3.2455\n",
      "Epoch [   38/   50] | d_loss: 0.4613 | g_loss: 4.8719\n",
      "Epoch [   38/   50] | d_loss: 0.5560 | g_loss: 3.0883\n",
      "Epoch [   39/   50] | d_loss: 0.4752 | g_loss: 3.7644\n",
      "Epoch [   39/   50] | d_loss: 0.7993 | g_loss: 1.6955\n",
      "Epoch [   39/   50] | d_loss: 0.6634 | g_loss: 3.5153\n",
      "Epoch [   39/   50] | d_loss: 0.3926 | g_loss: 4.0082\n",
      "Epoch [   39/   50] | d_loss: 0.4231 | g_loss: 3.9140\n",
      "Epoch [   39/   50] | d_loss: 0.4998 | g_loss: 2.7008\n",
      "Epoch [   40/   50] | d_loss: 0.9669 | g_loss: 4.2319\n",
      "Epoch [   40/   50] | d_loss: 0.4231 | g_loss: 4.5420\n",
      "Epoch [   40/   50] | d_loss: 0.4265 | g_loss: 3.2052\n",
      "Epoch [   40/   50] | d_loss: 0.4228 | g_loss: 5.6983\n",
      "Epoch [   40/   50] | d_loss: 0.3775 | g_loss: 4.1092\n",
      "Epoch [   40/   50] | d_loss: 0.4260 | g_loss: 3.1802\n",
      "Epoch [   41/   50] | d_loss: 1.2084 | g_loss: 5.3457\n",
      "Epoch [   41/   50] | d_loss: 0.4461 | g_loss: 3.9331\n",
      "Epoch [   41/   50] | d_loss: 0.5984 | g_loss: 4.4090\n",
      "Epoch [   41/   50] | d_loss: 1.2863 | g_loss: 7.2471\n",
      "Epoch [   41/   50] | d_loss: 0.4390 | g_loss: 3.4094\n",
      "Epoch [   41/   50] | d_loss: 0.5203 | g_loss: 2.6772\n",
      "Epoch [   42/   50] | d_loss: 0.5414 | g_loss: 2.9062\n",
      "Epoch [   42/   50] | d_loss: 0.4067 | g_loss: 4.5432\n",
      "Epoch [   42/   50] | d_loss: 0.4596 | g_loss: 3.0197\n",
      "Epoch [   42/   50] | d_loss: 0.4782 | g_loss: 3.3531\n",
      "Epoch [   42/   50] | d_loss: 0.5120 | g_loss: 2.7733\n",
      "Epoch [   42/   50] | d_loss: 0.4579 | g_loss: 3.6238\n",
      "Epoch [   43/   50] | d_loss: 0.9460 | g_loss: 3.9569\n",
      "Epoch [   43/   50] | d_loss: 0.4325 | g_loss: 3.6438\n",
      "Epoch [   43/   50] | d_loss: 0.5002 | g_loss: 2.4486\n",
      "Epoch [   43/   50] | d_loss: 0.4624 | g_loss: 3.9458\n",
      "Epoch [   43/   50] | d_loss: 0.4066 | g_loss: 3.6112\n",
      "Epoch [   43/   50] | d_loss: 0.4022 | g_loss: 4.7783\n",
      "Epoch [   44/   50] | d_loss: 0.5820 | g_loss: 3.6707\n",
      "Epoch [   44/   50] | d_loss: 0.4627 | g_loss: 3.7911\n",
      "Epoch [   44/   50] | d_loss: 0.4984 | g_loss: 4.5990\n",
      "Epoch [   44/   50] | d_loss: 0.4542 | g_loss: 2.8354\n",
      "Epoch [   44/   50] | d_loss: 0.4502 | g_loss: 4.8175\n",
      "Epoch [   44/   50] | d_loss: 0.4763 | g_loss: 3.9086\n",
      "Epoch [   45/   50] | d_loss: 0.4508 | g_loss: 3.6988\n",
      "Epoch [   45/   50] | d_loss: 0.5318 | g_loss: 3.1279\n",
      "Epoch [   45/   50] | d_loss: 0.5897 | g_loss: 3.2237\n",
      "Epoch [   45/   50] | d_loss: 0.4957 | g_loss: 3.3927\n",
      "Epoch [   45/   50] | d_loss: 0.4393 | g_loss: 3.3615\n",
      "Epoch [   45/   50] | d_loss: 0.5428 | g_loss: 3.9228\n",
      "Epoch [   46/   50] | d_loss: 0.7584 | g_loss: 1.1181\n",
      "Epoch [   46/   50] | d_loss: 0.4211 | g_loss: 3.5537\n",
      "Epoch [   46/   50] | d_loss: 0.4128 | g_loss: 3.7941\n",
      "Epoch [   46/   50] | d_loss: 0.4022 | g_loss: 4.0006\n",
      "Epoch [   46/   50] | d_loss: 0.5456 | g_loss: 2.4833\n",
      "Epoch [   46/   50] | d_loss: 0.4640 | g_loss: 3.6951\n",
      "Epoch [   47/   50] | d_loss: 1.1425 | g_loss: 4.7698\n",
      "Epoch [   47/   50] | d_loss: 0.4099 | g_loss: 4.0430\n",
      "Epoch [   47/   50] | d_loss: 0.4334 | g_loss: 3.9297\n",
      "Epoch [   47/   50] | d_loss: 0.3890 | g_loss: 3.7137\n",
      "Epoch [   47/   50] | d_loss: 0.4680 | g_loss: 3.0306\n",
      "Epoch [   47/   50] | d_loss: 0.4751 | g_loss: 3.7663\n",
      "Epoch [   48/   50] | d_loss: 0.5298 | g_loss: 3.6982\n",
      "Epoch [   48/   50] | d_loss: 0.5489 | g_loss: 3.3641\n",
      "Epoch [   48/   50] | d_loss: 0.4327 | g_loss: 4.2956\n",
      "Epoch [   48/   50] | d_loss: 0.4816 | g_loss: 3.7169\n",
      "Epoch [   48/   50] | d_loss: 0.4612 | g_loss: 3.8405\n",
      "Epoch [   48/   50] | d_loss: 0.4927 | g_loss: 4.8585\n",
      "Epoch [   49/   50] | d_loss: 0.8180 | g_loss: 2.8450\n",
      "Epoch [   49/   50] | d_loss: 0.4132 | g_loss: 3.9665\n",
      "Epoch [   49/   50] | d_loss: 0.4339 | g_loss: 3.9837\n",
      "Epoch [   49/   50] | d_loss: 0.5511 | g_loss: 3.0865\n",
      "Epoch [   49/   50] | d_loss: 0.5902 | g_loss: 2.8961\n",
      "Epoch [   49/   50] | d_loss: 0.4830 | g_loss: 3.3426\n",
      "Epoch [   50/   50] | d_loss: 0.4248 | g_loss: 4.5729\n",
      "Epoch [   50/   50] | d_loss: 0.3803 | g_loss: 3.4911\n",
      "Epoch [   50/   50] | d_loss: 0.6106 | g_loss: 3.0895\n",
      "Epoch [   50/   50] | d_loss: 0.3989 | g_loss: 5.8475\n",
      "Epoch [   50/   50] | d_loss: 0.3960 | g_loss: 4.3905\n",
      "Epoch [   50/   50] | d_loss: 0.4922 | g_loss: 2.7048\n",
      "time taken: 4685.945566892624\n"
     ]
    }
   ],
   "source": [
    "import time\n",
    "# set number of epochs\n",
    "n_epochs = 50\n",
    "\n",
    "\n",
    "\"\"\"\n",
    "DON'T MODIFY ANYTHING IN THIS CELL\n",
    "\"\"\"\n",
    "s = time.time()\n",
    "# call training function\n",
    "losses = train(D, G, n_epochs=n_epochs)\n",
    "e = time.time()\n",
    "print(\"time taken:\", (e-s))"
   ]
  },
  {
   "cell_type": "markdown",
   "metadata": {
    "collapsed": true
   },
   "source": [
    "## Training loss\n",
    "\n",
    "Plot the training losses for the generator and discriminator, recorded after each epoch."
   ]
  },
  {
   "cell_type": "code",
   "execution_count": 23,
   "metadata": {},
   "outputs": [
    {
     "data": {
      "text/plain": [
       "<matplotlib.legend.Legend at 0x7fed9f011198>"
      ]
     },
     "execution_count": 23,
     "metadata": {},
     "output_type": "execute_result"
    },
    {
     "data": {
      "image/png": "[encoded data removed]",
      "text/plain": [
       "<matplotlib.figure.Figure at 0x7fed9f037898>"
      ]
     },
     "metadata": {
      "needs_background": "light"
     },
     "output_type": "display_data"
    }
   ],
   "source": [
    "fig, ax = plt.subplots()\n",
    "losses = np.array(losses)\n",
    "plt.plot(losses.T[0], label='Discriminator', alpha=0.5)\n",
    "plt.plot(losses.T[1], label='Generator', alpha=0.5)\n",
    "plt.title(\"Training Losses\")\n",
    "plt.legend()"
   ]
  },
  {
   "cell_type": "markdown",
   "metadata": {
    "collapsed": true
   },
   "source": [
    "## Generator samples from training\n",
    "\n",
    "View samples of images from the generator, and answer a question about the strengths and weaknesses of your trained models."
   ]
  },
  {
   "cell_type": "code",
   "execution_count": 24,
   "metadata": {},
   "outputs": [],
   "source": [
    "# helper function for viewing a list of passed in sample images\n",
    "def view_samples(epoch, samples):\n",
    "    fig, axes = plt.subplots(figsize=(16,4), nrows=2, ncols=8, sharey=True, sharex=True)\n",
    "    for ax, img in zip(axes.flatten(), samples[epoch]):\n",
    "        img = img.detach().cpu().numpy()\n",
    "        img = np.transpose(img, (1, 2, 0))\n",
    "        img = ((img + 1)*255 / (2)).astype(np.uint8)\n",
    "        ax.xaxis.set_visible(False)\n",
    "        ax.yaxis.set_visible(False)\n",
    "        im = ax.imshow(img.reshape((32,32,3)))"
   ]
  },
  {
   "cell_type": "code",
   "execution_count": 25,
   "metadata": {},
   "outputs": [],
   "source": [
    "# Load samples from generator, taken while training\n",
    "with open('train_samples.pkl', 'rb') as f:\n",
    "    samples = pkl.load(f)"
   ]
  },
  {
   "cell_type": "code",
   "execution_count": 26,
   "metadata": {},
   "outputs": [
    {
     "data": {
      "image/png": "[encoded data removed]",
      "text/plain": [
       "<matplotlib.figure.Figure at 0x7fed9c0ea860>"
      ]
     },
     "metadata": {
      "needs_background": "light"
     },
     "output_type": "display_data"
    }
   ],
   "source": [
    "_ = view_samples(-1, samples)"
   ]
  },
  {
   "cell_type": "markdown",
   "metadata": {},
   "source": [
    "### Question: What do you notice about your generated samples and how might you improve this model?\n",
    "When you answer this question, consider the following factors:\n",
    "* The dataset is biased; it is made of \"celebrity\" faces that are mostly white\n",
    "* Model size; larger models have the opportunity to learn more features in a data feature space\n",
    "* Optimization strategy; optimizers and number of epochs affect your final result\n"
   ]
  },
  {
   "cell_type": "markdown",
   "metadata": {},
   "source": [
    "**Answer:** (Write your answer in this cell)\n",
    "\n",
    "The dataset is biased because it is made of white celebrity faces, so it's difficult for the model to innovate different colors.\n",
    "\n",
    "We can improve the output if we trained for more epochs and used larger size images."
   ]
  },
  {
   "cell_type": "markdown",
   "metadata": {},
   "source": [
    "### Submitting This Project\n",
    "When submitting this project, make sure to run all the cells before saving the notebook. Save the notebook file as \"dlnd_face_generation.ipynb\" and save it as a HTML file under \"File\" -> \"Download as\". Include the \"problem_unittests.py\" files in your submission."
   ]
  }
 ],
 "metadata": {
  "kernelspec": {
   "display_name": "Python 3",
   "language": "python",
   "name": "python3"
  },
  "language_info": {
   "codemirror_mode": {
    "name": "ipython",
    "version": 3
   },
   "file_extension": ".py",
   "mimetype": "text/x-python",
   "name": "python",
   "nbconvert_exporter": "python",
   "pygments_lexer": "ipython3",
   "version": "3.6.3"
  }
 },
 "nbformat": 4,
 "nbformat_minor": 1
}
